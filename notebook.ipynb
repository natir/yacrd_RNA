{
 "cells": [
  {
   "cell_type": "markdown",
   "metadata": {},
   "source": [
    "# Determinate if yacrd is efficient for RNA\n",
    "\n",
    "Methodology, use badreads to generate 32x long reads on human transcriptome. \n",
    "\n",
    "Use minimap2 mapping of this reads against transcriptome to determinate chimera create by badreads. We say a reads his a chimera when his map on two different transcipt."
   ]
  },
  {
   "cell_type": "markdown",
   "metadata": {},
   "source": [
    "### Get truth"
   ]
  },
  {
   "cell_type": "code",
   "execution_count": null,
   "metadata": {},
   "outputs": [],
   "source": [
    "truth = set()\n",
    "\n",
    "with open(\"detect/human/chimera.truth\") as fh:\n",
    "    for line in fh:\n",
    "        truth.add(line)\n",
    "\n",
    "\n",
    "all_read = set()\n",
    "with open(\"data/human/reads.fasta\") as fh:\n",
    "    for line in fh:\n",
    "        if line.startswith(\">\"):\n",
    "            line = line.split(\" \")\n",
    "            all_read = line[0][1:]"
   ]
  },
  {
   "cell_type": "markdown",
   "metadata": {},
   "source": [
    "## Default parameter"
   ]
  },
  {
   "cell_type": "markdown",
   "metadata": {},
   "source": [
    "### Get yacrd result"
   ]
  },
  {
   "cell_type": "code",
   "execution_count": null,
   "metadata": {},
   "outputs": [],
   "source": [
    "import csv\n",
    "\n",
    "yacrd = set()\n",
    "nb_not_cov = 0\n",
    "\n",
    "with open(\"detect/human/chimera.yacrd\") as fh:\n",
    "    reader = csv.reader(fh)\n",
    "    for row in reader:\n",
    "        if row[0] == \"Chimera\":\n",
    "            yacrd.add(row[1])\n",
    "        elif row[0] == \"NotCovered\":\n",
    "            nb_not_cov += 1\n",
    "            \n",
    "print(f\"Number of reads not covered {nb_not_cov}\")"
   ]
  },
  {
   "cell_type": "markdown",
   "metadata": {},
   "source": [
    "### Compute result"
   ]
  },
  {
   "cell_type": "code",
   "execution_count": null,
   "metadata": {},
   "outputs": [],
   "source": [
    "tp = len(truth & yacrd)\n",
    "fp = len(yacrd - truth)\n",
    "tn = len(truth - yacrd)\n",
    "fn = len(all_read - (truth + yacrd))\n",
    "\n",
    "print(f\"Precision: {tp/(tp+fp)}\")\n",
    "print(f\"Recall   : {tp/tp+fn}\")"
   ]
  }
 ],
 "metadata": {
  "kernelspec": {
   "display_name": "Python 3",
   "language": "python",
   "name": "python3"
  },
  "language_info": {
   "codemirror_mode": {
    "name": "ipython",
    "version": 3
   },
   "file_extension": ".py",
   "mimetype": "text/x-python",
   "name": "python",
   "nbconvert_exporter": "python",
   "pygments_lexer": "ipython3",
   "version": "3.8.7"
  }
 },
 "nbformat": 4,
 "nbformat_minor": 4
}
