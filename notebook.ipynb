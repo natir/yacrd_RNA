{
 "cells": [
  {
   "cell_type": "markdown",
   "metadata": {},
   "source": [
    "# Determinate if yacrd is efficient for RNA\n",
    "\n",
    "Methodology, use Badread to generate 32x long reads on human transcriptome. \n",
    "\n",
    "Use minimap2 mapping of this reads against transcriptome to determinate chimera create by Badread. We say a reads his a chimera when his map on two different transcipt."
   ]
  },
  {
   "cell_type": "markdown",
   "metadata": {},
   "source": [
    "### Get truth"
   ]
  },
  {
   "cell_type": "code",
   "execution_count": 14,
   "metadata": {},
   "outputs": [],
   "source": [
    "truth = set()\n",
    "\n",
    "with open(\"data/human/reads.fasta\") as fh:\n",
    "    for line in fh:\n",
    "        if line.startswith(\">\"):\n",
    "            if \"chimera\" in line:\n",
    "                line = line.split(\" \")\n",
    "                truth.add(line[0][1:])"
   ]
  },
  {
   "cell_type": "markdown",
   "metadata": {},
   "source": [
    "## Default parameter"
   ]
  },
  {
   "cell_type": "markdown",
   "metadata": {},
   "source": [
    "### Get yacrd result"
   ]
  },
  {
   "cell_type": "code",
   "execution_count": 17,
   "metadata": {},
   "outputs": [
    {
     "name": "stdout",
     "output_type": "stream",
     "text": [
      "Number of chimeric reads 46496 discard 47364\n"
     ]
    }
   ],
   "source": [
    "import csv\n",
    "\n",
    "yacrd = set()\n",
    "all_discard = set()\n",
    "nb_not_cov = 0\n",
    "\n",
    "with open(\"detect/human/chimera.yacrd\") as fh:\n",
    "    reader = csv.reader(fh, delimiter=\"\\t\")\n",
    "    for row in reader:\n",
    "        if row[0] == \"Chimeric\":\n",
    "            yacrd.add(row[1])\n",
    "            all_discard.add(row[1])\n",
    "        elif row[0] == \"NotCovered\":\n",
    "            all_discard.add(row[1])\n",
    "            \n",
    "print(f\"Number of chimeric reads {len(yacrd)} discard {len(all_discard)}\")"
   ]
  },
  {
   "cell_type": "markdown",
   "metadata": {},
   "source": [
    "### Compute result"
   ]
  },
  {
   "cell_type": "code",
   "execution_count": 18,
   "metadata": {},
   "outputs": [
    {
     "name": "stdout",
     "output_type": "stream",
     "text": [
      "Precision: 1.0\n",
      "Recall   : 0.8297967269287742\n",
      "F1-score : 0.9069824147314419\n"
     ]
    }
   ],
   "source": [
    "tp = len(truth & yacrd)\n",
    "fp = len(yacrd - truth)\n",
    "tn = len(truth - yacrd)\n",
    "\n",
    "precision = tp / (tp + fp)\n",
    "recall    = tp / len(truth)\n",
    "print(f\"Precision: {precision}\")\n",
    "print(f\"Recall   : {recall}\")\n",
    "print(f\"F1-score : {2*(precision * recall)/(precision + recall)}\")"
   ]
  },
  {
   "cell_type": "code",
   "execution_count": 19,
   "metadata": {},
   "outputs": [
    {
     "name": "stdout",
     "output_type": "stream",
     "text": [
      "Precision: 0.9996621906933536\n",
      "Recall   : 0.845002052362001\n",
      "F1-score : 0.9158486223004536\n"
     ]
    }
   ],
   "source": [
    "tp = len(truth & all_discard)\n",
    "fp = len(all_discard - truth)\n",
    "tn = len(truth - all_discard)\n",
    "\n",
    "precision = tp / (tp + fp)\n",
    "recall    = tp / len(truth)\n",
    "print(f\"Precision: {precision}\")\n",
    "print(f\"Recall   : {recall}\")\n",
    "print(f\"F1-score : {2*(precision * recall)/(precision + recall)}\")"
   ]
  }
 ],
 "metadata": {
  "kernelspec": {
   "display_name": "Python 3",
   "language": "python",
   "name": "python3"
  },
  "language_info": {
   "codemirror_mode": {
    "name": "ipython",
    "version": 3
   },
   "file_extension": ".py",
   "mimetype": "text/x-python",
   "name": "python",
   "nbconvert_exporter": "python",
   "pygments_lexer": "ipython3",
   "version": "3.6.5"
  }
 },
 "nbformat": 4,
 "nbformat_minor": 4
}
